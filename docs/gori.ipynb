{
 "cells": [
  {
   "cell_type": "markdown",
   "id": "eb94aa2d",
   "metadata": {},
   "source": [
    "# GORi: an efficient algorithm to annotate pools of genesets simultaneously, with multiple knowledge bases."
   ]
  },
  {
   "cell_type": "markdown",
   "id": "c0c71fc1",
   "metadata": {},
   "source": [
    "In this notebook, we present GORi: an algorithm developed to conduct enrichment analyses on a pool of genesets, with multiple knowledge bases.\n",
    "\n",
    "GORi is computationally efficient, and is able to leverage hierarchical relationships between genesets (e.g. marker genes of a cell population and marker genes of its sub-populations) to improve the quality of its enrichment analysis. "
   ]
  },
  {
   "cell_type": "markdown",
   "id": "edd55045",
   "metadata": {},
   "source": [
    "### Installing GORi"
   ]
  },
  {
   "cell_type": "markdown",
   "id": "666a3833",
   "metadata": {},
   "source": [
    "GORi can be installed as a Python3 package using pip3 (cf. `README.md`). Following its installation, you can import it with:"
   ]
  },
  {
   "cell_type": "code",
   "execution_count": null,
   "id": "52b93423",
   "metadata": {},
   "outputs": [],
   "source": [
    "import gori"
   ]
  },
  {
   "cell_type": "markdown",
   "id": "ec5f6f34",
   "metadata": {},
   "source": [
    "### Overview of GORi"
   ]
  },
  {
   "cell_type": "markdown",
   "id": "30c83182",
   "metadata": {},
   "source": [
    "GORi loads a pool of **priors** associating genes and concepts (*e.g.* the Gene Ontology). It leverages the gene annotations of each prior to identify strong associations between pairs of concepts. \n",
    "\n",
    "A prior is a collection of three Python3 dictionaries:\n",
    "    \n",
    "- **annotations**: a dict associating gene symbols or uniprot ids (keys) to a set of semantic ids (values).\n",
    "- **hierarchy**: a dict associating semantic ids (keys) to a set of parents in the hierarchy (values).\n",
    "- **translations**: a dict associating semantic ids (keys) to their human-readable label (values).\n",
    "\n",
    "To demonstrate how to use GORi, we will apply it on the results of a scRNA-seq clustering analysis conducted with the fEVE framework (cf. https://github.com/yanisaspic/fEVE) downloaded from an online repository.\n",
    "\n",
    "*This analysis was conducted on a human glioblastoma dataset, and 10 populations of cells were predicted: C, C.1, C.2, C.3, C.L, C.L.1, C.L.L, C.L.L.1, C.L.L.2 and C.L.L.L. These populations were predicted across multiple resolutions, as indicated by their label (*e.g.* C.L.1 and C.L.L are two sub-populations of C.L). For each population, a set of marker genes was predicted, and all of these informations are stored in the data file `Darmanis_HumGBM.xlsx` of the GORi package.*"
   ]
  },
  {
   "cell_type": "markdown",
   "id": "d113be52",
   "metadata": {},
   "source": [
    "##### Setting-up GORi"
   ]
  },
  {
   "cell_type": "markdown",
   "id": "7c70eb09",
   "metadata": {},
   "source": [
    "Using the function `load_feve()`, we will load the results of this analysis as a prior for GORi:"
   ]
  },
  {
   "cell_type": "code",
   "execution_count": null,
   "id": "67dd2a82",
   "metadata": {},
   "outputs": [],
   "source": [
    "from gori.loaders import load_feve\n",
    "from urllib.request import urlretrieve\n",
    "\n",
    "url = \"https://github.com/yanisaspic/GORi/raw/refs/heads/main/data/Darmanis_HumGBM.xlsx\"\n",
    "path = \"./Darmanis_HumGBM.xlxs\"\n",
    "urlretrieve(url, path)\n",
    "\n",
    "feve_prior = load_feve(path=path)"
   ]
  },
  {
   "cell_type": "markdown",
   "id": "c645b590",
   "metadata": {},
   "source": [
    "For this analysis, our other priors will correspond to curated knowledge bases associating genes to specific concepts. Eight different priors are readily implemented in GORi:\n",
    "\n",
    "- **BIOP: biological processes**, from the Gene Ontology (GO).\n",
    "- **CELC: cellular components**, from the Gene Ontology (GO).\n",
    "- **CTYP: cell types**, from the Cell Ontology (CL) and CellMarker 2.0.\n",
    "- **CTYP2: cell types**, from the Cell Ontology (CL) and CellTaxonomy. \n",
    "- **DISE: diseases**, from the Comparative Toxicogenomics Database (CTD) and the Medical Subject Headings (MeSH).\n",
    "- **GENG: gene groups**, from the HUGO Gene Nomenclature Committee (HGNC).\n",
    "- **MOLF: molecular functions**, from the Gene Ontology (GO).\n",
    "- **PATH: pathways**, from Reactome.\n",
    "- **PHEN: phenotypes**, from the Human Phenotype Ontology (HPO).\n",
    "\n",
    "In order to load them, the function `load_priors()` must be called.\n",
    "\n",
    "**Note 1:** the priors CTYP, DISE, GENG and PATH must be intialized with `download_priors()` and `setup_priors()` before loading.\n",
    "\n",
    "**Note 2:** only human protein-coding genes (with UniProtIDs) are handled by these priors."
   ]
  },
  {
   "cell_type": "code",
   "execution_count": null,
   "id": "474c0238",
   "metadata": {},
   "outputs": [],
   "source": [
    "from gori.init import download_priors, setup_priors\n",
    "from gori.loaders import load_priors\n",
    "\n",
    "priors = {\"BIOP\", \"CELC\", \"CTYP\", \"CTYP2\", \"DISE\", \"GENG\", \"MOLF\", \"PATH\", \"PHEN\"}\n",
    "priors_requiring_init = {\"CTYP\", \"CTYP2\", \"DISE\", \"GENG\", \"PATH\"}\n",
    "\n",
    "download_priors(priors_requiring_init)\n",
    "setup_priors(priors_requiring_init)\n",
    "data = load_priors(priors)"
   ]
  },
  {
   "cell_type": "markdown",
   "id": "55671323",
   "metadata": {},
   "source": [
    "**Note 1:** downloading and setting-up CTYP, CTYP2, DISE, GENG and PATH can be time-consuming. You only need to do it once, as local files will be stored on your machine afterwards (by default, in the folders `./.priors` and `./priors`).\n",
    "\n",
    "**Note 2:** the first time you load the priors BIOP, CELC, MOLF and PHEN, cache files are automatically saved in your machine (from the `pypath` package). This process can also be time-consuming. If errors are raised after loading one of these priors, they will likely be caused by cache issues. They can be solved by clearing the cache (cf. `README.md`), and regenerating it with `load_priors()`.\n",
    "\n",
    "It is also possible to load a prior from a collection of three local .json files with the function `load_local()`. For instance, a prior labeled POPU can be loaded if three .json files are saved locally: `POPU_a.json`, `POPU_h.json` and `POPU_t.json` (for annotations, hierarchy and translations, respectively).\n",
    "\n",
    "We demonstrate how to use this function by loading the DISE prior from the local collection of .json files generated after its initialization:"
   ]
  },
  {
   "cell_type": "code",
   "execution_count": null,
   "id": "34db7dc2",
   "metadata": {},
   "outputs": [],
   "source": [
    "from gori.loaders import load_local\n",
    "\n",
    "dise_prior = load_local(prior=\"DISE\", path=\"./priors\")"
   ]
  },
  {
   "cell_type": "markdown",
   "id": "50878537",
   "metadata": {},
   "source": [
    "**Note:** you should make sure that any prior loaded with GORi is a directed acyclic graph (DAG), rooted to a unique concept (*e.g.* `biological_process`). Otherwise, the analysis might not run smoothly."
   ]
  },
  {
   "cell_type": "markdown",
   "id": "66f7a93b",
   "metadata": {},
   "source": [
    "##### Running GORi"
   ]
  },
  {
   "cell_type": "markdown",
   "id": "1d40e331",
   "metadata": {},
   "source": [
    "After loading all of our priors of interest, we will merge them to a single variable, and start the GORi analysis with the function `gori()`. This function expects four arguments:\n",
    "- **geneset** is a set of gene symbols or Uniprot ids used to conduct the enrichment analysis. We'll use the marker genes predicted with the fEVE analysis.\n",
    "- **antecedent_prior** is a label indicating which prior should be annotated. We'll annotate the clusters predicted with the fEVE analysis.\n",
    "- **consequent_prior** is a set of labels indicating which priors should be used to annotate. We'll use the eight default priors available with GORi.\n",
    "- **data** is a collection of priors. We have loaded them earlier."
   ]
  },
  {
   "cell_type": "code",
   "execution_count": null,
   "id": "9f6a663b",
   "metadata": {},
   "outputs": [],
   "source": [
    "from gori.run import gori\n",
    "\n",
    "data[\"FEVE\"] = feve_prior\n",
    "geneset = data[\"FEVE\"][\"annotations\"].keys()\n",
    "results = gori(geneset=geneset, antecedent_prior=\"FEVE\", consequent_priors=priors, data=data, save=False)\n",
    "print(results)"
   ]
  },
  {
   "cell_type": "markdown",
   "id": "91a82fab",
   "metadata": {},
   "source": [
    "Briefly, the results of a GORi analysis is a collection of four data frames:\n",
    "- `annotations_counter` reports the number of annotation identified for each gene, with each prior.\n",
    "- `associations_counter` reports the number of associations identified by GORi at each step of the algorithm.\n",
    "- `associations` reports the pairwise associations between genesets and terms identified by GORi.\n",
    "- `words` reports the importance of each individual word to characterize genesets.\n",
    "\n",
    "By default, these results are saved to a collection of spreadsheets `GORi.xlsx`. An HTML report `GORi.html` is also generated to explore them interactively. Here, because we have set `save=False` when we have run `gori()`, neither documents were generated. \n",
    "\n",
    "A more extensive presentation of GORi's results is directly available in the report generated post-analysis."
   ]
  },
  {
   "cell_type": "markdown",
   "id": "77755694",
   "metadata": {},
   "source": [
    "##### Running GORi with fEVE"
   ]
  },
  {
   "cell_type": "markdown",
   "id": "bf0dca1a",
   "metadata": {},
   "source": [
    "The results of a fEVE clustering analysis can be analyzed with GORi directly with the function `gorilon()`. In this case, the fEVE prior is automatically generated, and is annotated with 6 other priors: BIOP, CELC, CTYP, GENG, MOLF and PATH."
   ]
  },
  {
   "cell_type": "code",
   "execution_count": null,
   "id": "b5e3abc0",
   "metadata": {},
   "outputs": [],
   "source": [
    "from gori.run import gorilon\n",
    "\n",
    "results = gorilon(path)\n",
    "print(results)"
   ]
  },
  {
   "cell_type": "markdown",
   "id": "8259fa93",
   "metadata": {},
   "source": [
    "This time, we have not set `save=False`, and both the collection of spreadsheets and the HTML report have been generated.\n",
    "\n",
    "**We recommend users to check the generated report before proceeding with GORi.**"
   ]
  },
  {
   "cell_type": "markdown",
   "id": "40cc0ed8",
   "metadata": {},
   "source": [
    "##### Parameterizing GORi"
   ]
  },
  {
   "cell_type": "markdown",
   "id": "ba34fdf1",
   "metadata": {},
   "source": [
    "A set of default parameters is used to run a GORi analysis. These parameters are generated with the function `get_parameters()`, and they include:\n",
    "\n",
    "- **n_genes_threshold:** the minimum number of co-annotated genes required to associate two concepts. Defaults to `5`.\n",
    "- **pvalue_threshold:** the p-value threshold used to identify strong associations (using Fisher's exact test). Defaults to `0.05`.\n",
    "- **use_heuristic:** a boolean indicating if GORi's heuristic strategy should be employed to identify strong associations. Defaults to `True`.\n",
    "- **use_gene_symbol:** a boolean indicating if gene symbols (True) or UniProtIDs (False) should be used. Defaults to `True`.\n",
    "- **sheets_path:** a path to store the spreadsheets of the GORi analysis. Defaults to `./GORi.xlsx`.\n",
    "- **report_path:** a path to store the HTML report of the GORi analysis. Defaults to `./GORi.html`.\n",
    "- **stopwords:** a set of words that should be filtered out from the words overview.\n",
    "- **wrappers:** wrapper functions required to run GORi.\n",
    "\n",
    "These settings can be changed prior to the GORi analysis, and must be input to the argument `params` of `gori()` or `gorilon()`:"
   ]
  },
  {
   "cell_type": "code",
   "execution_count": null,
   "id": "25266d9a",
   "metadata": {},
   "outputs": [],
   "source": [
    "from gori.params import get_parameters\n",
    "\n",
    "params = get_parameters()\n",
    "params[\"n_genes_threshold\"] = 10\n",
    "params[\"pvalue_threshold\"] = 0.001\n",
    "params[\"use_heuristic\"] = False\n",
    "params[\"use_gene_symbol\"] = False\n",
    "params[\"stopwords\"] = params[\"stopwords\"] | {\"bind, binding\"}\n",
    "results = gori(geneset=geneset, antecedent_prior=\"FEVE\", consequent_priors={\"CTYP\", \"BIOP\", \"PATH\"}, data=data, params=params, save=False)\n",
    "print(results)"
   ]
  }
 ],
 "metadata": {
  "kernelspec": {
   "display_name": "Python 3",
   "language": "python",
   "name": "python3"
  },
  "language_info": {
   "name": "python",
   "version": "3.undefined.undefined"
  }
 },
 "nbformat": 4,
 "nbformat_minor": 5
}
