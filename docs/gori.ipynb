{
 "cells": [
  {
   "cell_type": "markdown",
   "id": "eb94aa2d",
   "metadata": {},
   "source": [
    "# Tutorial"
   ]
  },
  {
   "cell_type": "markdown",
   "id": "c0c71fc1",
   "metadata": {},
   "source": [
    "GORi is a modular, multi‑scale and multi‑resolution approach, to conduct genesets enrichment analyses on single‑cell RNA‑seq data. \\\n",
    "In this notebook, we present a tutorial on how to use the `gori` package to conduct these analyses."
   ]
  },
  {
   "cell_type": "markdown",
   "id": "edd55045",
   "metadata": {},
   "source": [
    "### Installing GORi"
   ]
  },
  {
   "cell_type": "markdown",
   "id": "666a3833",
   "metadata": {},
   "source": [
    "GORi can be installed as a Python3 package using pip3 (cf. `README.md`). Following its installation, you can import it with:"
   ]
  },
  {
   "cell_type": "code",
   "execution_count": null,
   "id": "52b93423",
   "metadata": {},
   "outputs": [],
   "source": [
    "import gori\n",
    "\n",
    "# we will also load two other dependencies required for this tutorial\n",
    "import session_info\n",
    "from urllib.request import urlretrieve"
   ]
  },
  {
   "cell_type": "markdown",
   "id": "ec5f6f34",
   "metadata": {},
   "source": [
    "### Overview of GORi"
   ]
  },
  {
   "cell_type": "markdown",
   "id": "30c83182",
   "metadata": {},
   "source": [
    "GORi loads a pool of **priors** associating genes and concepts (*e.g.* the Gene Ontology). It leverages the gene annotations of each prior to identify strong associations between pairs of concepts. \n",
    "\n",
    "A prior is a collection of three Python3 dictionaries:\n",
    "    \n",
    "- **annotations**: a dict associating gene symbols or uniprot ids (keys) to a set of semantic ids (values).\n",
    "- **hierarchy**: a dict associating semantic ids (keys) to a set of parents in the hierarchy (values).\n",
    "- **translations**: a dict associating semantic ids (keys) to their human-readable label (values).\n",
    "\n",
    "To demonstrate how to use GORi, we will apply it on the results of a scRNA-seq clustering analysis conducted with the fEVE framework (cf. https://github.com/yanisaspic/fEVE) downloaded from an online repository.\n",
    "\n",
    "*This analysis was conducted on a human glioblastoma dataset, and 10 populations of cells were predicted: C, C.1, C.2, C.3, C.L, C.L.1, C.L.L, C.L.L.1, C.L.L.2 and C.L.L.L. These populations were predicted across multiple resolutions, as indicated by their label (*e.g.* C.L.1 and C.L.L are two sub-populations of C.L). For each population, a set of marker genes was predicted, and all of these informations are stored in the data file `Darmanis_HumGBM.xlsx` of the GORi package.*"
   ]
  },
  {
   "cell_type": "markdown",
   "id": "d113be52",
   "metadata": {},
   "source": [
    "##### Setting-up GORi"
   ]
  },
  {
   "cell_type": "markdown",
   "id": "7c70eb09",
   "metadata": {},
   "source": [
    "Using the function `load_feve()`, we will load the results of this analysis as a prior for GORi:"
   ]
  },
  {
   "cell_type": "code",
   "execution_count": null,
   "id": "67dd2a82",
   "metadata": {},
   "outputs": [],
   "source": [
    "from gori.loaders import load_feve\n",
    "\n",
    "url = \"https://github.com/yanisaspic/GORi/raw/refs/heads/main/data/Darmanis_HumGBM.xlsx\"\n",
    "path = \"./Darmanis_HumGBM.xlxs\"\n",
    "urlretrieve(url, path)\n",
    "\n",
    "feve_prior = load_feve(path=path)"
   ]
  },
  {
   "cell_type": "markdown",
   "id": "c645b590",
   "metadata": {},
   "source": [
    "For this analysis, our other priors will correspond to curated knowledge bases associating genes to specific concepts. Nine different priors are readily implemented in GORi:\n",
    "\n",
    "- **BIOP: biological processes**, from the Gene Ontology [@goconsortium2023].\n",
    "- **CELC: cellular components**, from the Gene Ontology [@goconsortium2023].\n",
    "- **CTYP: cell types**, from the Cell Ontology [@diehl2016] and CellMarker 2.0 [@hu2023].\n",
    "- **CTYP2: cell types**, from the Cell Ontology [@diehl2016] and CellTaxonomy [@jiang2023].\n",
    "- **DISE: diseases**, from the Medical Subject Headings and the Comparative Toxicogenomics Database [@davis2025].\n",
    "- **GENG: gene groups**, from the HUGO Gene Nomenclature Committee [@seal2023].\n",
    "- **MOLF: molecular functions**, from the Gene Ontology [@goconsortium2023].\n",
    "- **PATH: pathways**, from Reactome [@milacic2024].\n",
    "- **PHEN: phenotypes**, from the Human Phenotype Ontology [@gargano2024].\n",
    "\n",
    "In order to load them, the function `load_priors()` must be called.\n",
    "\n",
    "**Note 1:** the priors CTYP, CTYP2, DISE, GENG and PATH must be intialized with `download_priors()` and `setup_priors()` before loading. \\\n",
    "**Note 2:** only human protein-coding genes (*i.e.* genes with valid UniProtIDs) are handled by these priors."
   ]
  },
  {
   "cell_type": "code",
   "execution_count": null,
   "id": "474c0238",
   "metadata": {},
   "outputs": [],
   "source": [
    "from gori.init import download_priors, setup_priors\n",
    "from gori.loaders import load_priors\n",
    "\n",
    "priors = {\"BIOP\", \"CELC\", \"CTYP\", \"CTYP2\", \"DISE\", \"GENG\", \"MOLF\", \"PATH\", \"PHEN\"}\n",
    "priors_requiring_init = {\"CTYP\", \"CTYP2\", \"DISE\", \"GENG\", \"PATH\"}\n",
    "\n",
    "download_priors(priors_requiring_init)\n",
    "setup_priors(priors_requiring_init)\n",
    "data = load_priors(priors)"
   ]
  },
  {
   "cell_type": "markdown",
   "id": "55671323",
   "metadata": {},
   "source": [
    "**Note 1:** downloading and setting-up priors can be time-consuming. You only need to do it once, as local files will be stored on your machine afterwards (by default, in the folders `./.priors` and `./priors`).\n",
    "\n",
    "**Note 2:** the first time you load the priors BIOP, CELC, MOLF and PHEN, cache files are automatically saved in your machine (from the `pypath` package). This process can also be time-consuming. If errors are raised after loading one of these priors, they will likely be caused by cache issues. \\\n",
    "You can solve them by clearing the cache (cf. `README.md`), and regenerating it with `load_priors()`.\n",
    "\n",
    "It is also possible to load a prior from a collection of three local .json files with the function `load_local()`. For instance, a prior labeled POUPI can be loaded if three .json files are saved locally: `POUPI_a.json`, `POUPI_h.json` and `POUPI_t.json` (for annotations, hierarchy and translations, respectively). \\\n",
    "We'll demonstrate how to use this function by loading the DISE prior from the collection of local .json files generated following its initialization:"
   ]
  },
  {
   "cell_type": "code",
   "execution_count": null,
   "id": "34db7dc2",
   "metadata": {},
   "outputs": [],
   "source": [
    "from gori.loaders import load_local\n",
    "\n",
    "dise_prior = load_local(prior=\"DISE\", path=\"./priors\")"
   ]
  },
  {
   "cell_type": "markdown",
   "id": "50878537",
   "metadata": {},
   "source": [
    "**Note:** you should make sure that any prior loaded with GORi is a directed acyclic graph (DAG), rooted to a unique concept (*e.g.* `biological_process`). Otherwise, the analysis might not run smoothly."
   ]
  },
  {
   "cell_type": "markdown",
   "id": "66f7a93b",
   "metadata": {},
   "source": [
    "##### Running GORi"
   ]
  },
  {
   "cell_type": "markdown",
   "id": "1d40e331",
   "metadata": {},
   "source": [
    "After loading all of our priors of interest, we will merge them to a single variable, and start the GORi analysis with the function `gori()`. This function expects four arguments:\n",
    "- **geneset** is a set of gene symbols or Uniprot ids used to conduct the enrichment analysis. We'll use the marker genes predicted with the fEVE analysis.\n",
    "- **antecedent_prior** is a label indicating which prior should be annotated. We'll annotate the clusters predicted with the fEVE analysis.\n",
    "- **consequent_prior** is a set of labels indicating which priors should be used to annotate. We'll use the eight default priors available with GORi.\n",
    "- **data** is a collection of priors. We have loaded them earlier."
   ]
  },
  {
   "cell_type": "code",
   "execution_count": null,
   "id": "9f6a663b",
   "metadata": {},
   "outputs": [],
   "source": [
    "from gori.run import gori\n",
    "\n",
    "data[\"FEVE\"] = feve_prior\n",
    "geneset = data[\"FEVE\"][\"annotations\"].keys()\n",
    "results = gori(geneset=geneset, antecedent_prior=\"FEVE\", consequent_priors=priors, data=data, save=False)\n",
    "print(results)"
   ]
  },
  {
   "cell_type": "markdown",
   "id": "91a82fab",
   "metadata": {},
   "source": [
    "Briefly, the results of a GORi analysis is a collection of four data frames:\n",
    "- `annotations_counter` reports the number of annotation identified for each gene, with each prior.\n",
    "- `associations_counter` reports the number of associations identified by GORi at each step of the algorithm.\n",
    "- `associations` reports the pairwise associations between genesets and terms identified by GORi.\n",
    "- `words` reports the importance of each individual word to characterize genesets.\n",
    "\n",
    "By default, these results are saved to a collection of spreadsheets `./GORi.xlsx`. An HTML report `./GORi.html` is also generated to explore them interactively. Here, because we have set `save=False` when we have run `gori()`, neither documents were generated. \\\n",
    "A more extensive presentation of GORi's results is directly available in the report generated post-analysis."
   ]
  },
  {
   "cell_type": "markdown",
   "id": "77755694",
   "metadata": {},
   "source": [
    "##### Running GORi with fEVE"
   ]
  },
  {
   "cell_type": "markdown",
   "id": "bf0dca1a",
   "metadata": {},
   "source": [
    "The results of a fEVE clustering analysis can be analyzed with GORi directly with the function `gorilon()`. In this case, the fEVE prior is automatically generated, and is annotated with 6 other priors: BIOP, CELC, CTYP, GENG, MOLF and PATH."
   ]
  },
  {
   "cell_type": "code",
   "execution_count": null,
   "id": "b5e3abc0",
   "metadata": {},
   "outputs": [],
   "source": [
    "from gori.run import gorilon\n",
    "\n",
    "results = gorilon(path)\n",
    "print(results)"
   ]
  },
  {
   "cell_type": "markdown",
   "id": "8259fa93",
   "metadata": {},
   "source": [
    "This time, we have not set `save=False`, and both the collection of spreadsheets and the HTML report have been generated. \\\n",
    "**We recommend users to check the generated report before proceeding with this tutorial.** It should be stored in `./GORi.html`"
   ]
  },
  {
   "cell_type": "markdown",
   "id": "40cc0ed8",
   "metadata": {},
   "source": [
    "##### Parameterizing GORi"
   ]
  },
  {
   "cell_type": "markdown",
   "id": "ba34fdf1",
   "metadata": {},
   "source": [
    "A set of default parameters is used to run a GORi analysis. These parameters are generated with the function `get_parameters()`, and they include:\n",
    "\n",
    "- **n_genes_threshold:** the minimum number of co-annotated genes required to associate two concepts. Defaults to `5`.\n",
    "- **pvalue_threshold:** the p-value threshold used to identify strong associations (using Fisher's exact test). Defaults to `0.05`.\n",
    "- **use_heuristic:** a boolean indicating if GORi's heuristic strategy should be employed to identify strong associations. Defaults to `True`.\n",
    "- **use_gene_symbol:** a boolean indicating if gene symbols (True) or UniProtIDs (False) should be used. Defaults to `True`.\n",
    "- **sheets_path:** a path to store the spreadsheets of the GORi analysis. Defaults to `./GORi.xlsx`.\n",
    "- **report_path:** a path to store the HTML report of the GORi analysis. Defaults to `./GORi.html`.\n",
    "- **stopwords:** a set of words that should be filtered out from the words overview generated in the HTML report.\n",
    "- **wrappers:** wrapper functions required to run GORi.\n",
    "\n",
    "These settings can be changed prior to the GORi analysis, and must be input to the argument `params` of `gori()` or `gorilon()`:"
   ]
  },
  {
   "cell_type": "code",
   "execution_count": null,
   "id": "25266d9a",
   "metadata": {},
   "outputs": [],
   "source": [
    "from gori.params import get_parameters\n",
    "\n",
    "params = get_parameters()\n",
    "params[\"n_genes_threshold\"] = 10\n",
    "params[\"pvalue_threshold\"] = 0.001\n",
    "params[\"use_heuristic\"] = False\n",
    "params[\"use_gene_symbol\"] = False\n",
    "params[\"stopwords\"] = params[\"stopwords\"] | {\"bind, binding\"}\n",
    "results = gori(geneset=geneset, antecedent_prior=\"FEVE\", consequent_priors={\"CTYP\", \"BIOP\", \"PATH\"}, data=data, params=params, save=False)\n",
    "print(results)"
   ]
  },
  {
   "cell_type": "markdown",
   "id": "381d6b0b",
   "metadata": {},
   "source": [
    "##### Session information"
   ]
  },
  {
   "cell_type": "code",
   "execution_count": 1,
   "id": "9e6f5aee",
   "metadata": {},
   "outputs": [
    {
     "data": {
      "text/html": [
       "<details>\n",
       "<summary>Click to view session information</summary>\n",
       "<pre>\n",
       "-----\n",
       "gori                NA\n",
       "session_info        v1.0.1\n",
       "-----\n",
       "</pre>\n",
       "<details>\n",
       "<summary>Click to view modules imported as dependencies</summary>\n",
       "<pre>\n",
       "PIL                         9.0.1\n",
       "anyio                       NA\n",
       "apport_python_hook          NA\n",
       "arrow                       1.3.0\n",
       "asttokens                   NA\n",
       "attr                        25.3.0\n",
       "attrs                       25.3.0\n",
       "babel                       2.17.0\n",
       "backcall                    0.2.0\n",
       "backports                   NA\n",
       "bcrypt                      3.2.0\n",
       "boltons                     NA\n",
       "brotli                      1.0.9\n",
       "bs4                         4.13.4\n",
       "cairo                       1.20.1\n",
       "certifi                     2025.04.26\n",
       "cffi                        1.17.1\n",
       "chardet                     5.2.0\n",
       "charset_normalizer          3.4.2\n",
       "colorama                    0.4.4\n",
       "cryptography                45.0.3\n",
       "cython_runtime              NA\n",
       "dateutil                    2.9.0.post0\n",
       "debugpy                     1.8.14\n",
       "decorator                   4.4.2\n",
       "defusedxml                  0.7.1\n",
       "exceptiongroup              1.3.0\n",
       "executing                   2.2.0\n",
       "face                        NA\n",
       "fastjsonschema              NA\n",
       "fastobo                     0.13.0\n",
       "fqdn                        NA\n",
       "fsspec                      2025.5.1\n",
       "future                      0.18.2\n",
       "gi                          3.42.1\n",
       "gio                         NA\n",
       "glib                        NA\n",
       "glom                        24.11.0\n",
       "gobject                     NA\n",
       "gtk                         NA\n",
       "html5lib                    1.1\n",
       "idna                        3.3\n",
       "ipykernel                   6.7.0\n",
       "isoduration                 NA\n",
       "jaraco                      NA\n",
       "jedi                        0.18.0\n",
       "jinja2                      3.0.3\n",
       "joblib                      1.5.1\n",
       "json5                       0.12.0\n",
       "jsonpointer                 3.0.0\n",
       "jsonschema                  4.24.0\n",
       "jsonschema_specifications   NA\n",
       "jupyter_events              0.12.0\n",
       "jupyter_server              2.16.0\n",
       "jupyterlab_server           2.27.3\n",
       "lxml                        4.8.0\n",
       "lz4                         3.1.3+dfsg\n",
       "markupsafe                  2.0.1\n",
       "mlxtend                     0.23.4\n",
       "more_itertools              8.10.0\n",
       "mpl_toolkits                NA\n",
       "nacl                        1.5.0\n",
       "nbformat                    5.10.4\n",
       "networkx                    3.4.2\n",
       "numpy                       2.2.6\n",
       "nxontology                  NA\n",
       "openpyxl                    3.1.5\n",
       "overrides                   NA\n",
       "packaging                   25.0\n",
       "pandas                      2.2.3\n",
       "paramiko                    2.9.3\n",
       "parso                       0.8.1\n",
       "past                        0.18.2\n",
       "pexpect                     4.8.0\n",
       "pickleshare                 0.7.5\n",
       "platformdirs                2.5.1\n",
       "prometheus_client           NA\n",
       "prompt_toolkit              3.0.51\n",
       "pronto                      2.7.0\n",
       "psutil                      5.9.0\n",
       "ptyprocess                  0.7.0\n",
       "pure_eval                   0.2.3\n",
       "pycurl                      PycURL/7.45.6 libcurl/8.12.1-DEV OpenSSL/3.4.1 zlib/1.2.11 brotli/1.1.0 libssh2/1.11.1_DEV nghttp2/1.64.0\n",
       "pydev_ipython               NA\n",
       "pydevconsole                NA\n",
       "pydevd                      3.2.3\n",
       "pydevd_file_utils           NA\n",
       "pydevd_plugins              NA\n",
       "pydevd_tracing              NA\n",
       "pygments                    2.11.2\n",
       "pypath                      0.1\n",
       "pypath_common               0.2.6\n",
       "pysftp                      0.2.9\n",
       "pythonjsonlogger            NA\n",
       "pytz                        2022.1\n",
       "referencing                 NA\n",
       "requests                    2.32.3\n",
       "rfc3339_validator           0.1.4\n",
       "rfc3986_validator           0.1.1\n",
       "rpds                        NA\n",
       "scipy                       1.15.3\n",
       "send2trash                  NA\n",
       "setuptools                  80.8.0\n",
       "sitecustomize               NA\n",
       "six                         1.16.0\n",
       "sklearn                     1.6.1\n",
       "sniffio                     1.3.1\n",
       "soupsieve                   2.3.1\n",
       "sqlparse                    0.5.3\n",
       "stack_data                  0.6.3\n",
       "tabulate                    0.9.0\n",
       "threadpoolctl               3.6.0\n",
       "timeloop                    NA\n",
       "toml                        0.10.2\n",
       "tornado                     6.5.1\n",
       "tqdm                        4.67.1\n",
       "traitlets                   5.14.3\n",
       "typing_extensions           NA\n",
       "tzdata                      2025.2\n",
       "uri_template                NA\n",
       "urllib3                     1.26.5\n",
       "wcwidth                     0.2.5\n",
       "webcolors                   NA\n",
       "webencodings                0.5.1\n",
       "websocket                   1.8.0\n",
       "xlrd                        2.0.1\n",
       "yaml                        5.4.1\n",
       "zmq                         26.4.0\n",
       "zoneinfo                    NA\n",
       "</pre>\n",
       "</details> <!-- seems like this ends pre, so might as well be explicit -->\n",
       "<pre>\n",
       "-----\n",
       "IPython             8.12.3\n",
       "jupyter_client      8.6.3\n",
       "jupyter_core        5.8.1\n",
       "jupyterlab          4.4.3\n",
       "notebook            7.4.3\n",
       "-----\n",
       "Python 3.10.12 (main, Feb  4 2025, 14:57:36) [GCC 11.4.0]\n",
       "Linux-6.8.0-60-generic-x86_64-with-glibc2.35\n",
       "-----\n",
       "Session information updated at 2025-06-03 15:01\n",
       "</pre>\n",
       "</details>"
      ],
      "text/plain": [
       "<IPython.core.display.HTML object>"
      ]
     },
     "execution_count": 1,
     "metadata": {},
     "output_type": "execute_result"
    }
   ],
   "source": [
    "# gori==1.0\n",
    "session_info.show(dependencies=True)"
   ]
  }
 ],
 "metadata": {
  "kernelspec": {
   "display_name": "Python 3",
   "language": "python",
   "name": "python3"
  },
  "language_info": {
   "name": "python",
   "version": "3.undefined.undefined"
  }
 },
 "nbformat": 4,
 "nbformat_minor": 5
}
