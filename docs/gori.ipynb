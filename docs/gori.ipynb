{
 "cells": [
  {
   "cell_type": "markdown",
   "id": "eb94aa2d",
   "metadata": {},
   "source": [
    "# GORi: an efficient algorithm to annotate pools of genesets simultaneously, with multiple knowledge bases."
   ]
  },
  {
   "cell_type": "markdown",
   "id": "c0c71fc1",
   "metadata": {},
   "source": [
    "In this notebook, we present GORi: an algorithm developed to conduct enrichment analyses on a pool of genesets, with multiple knowledge bases.\n",
    "GORi is computationally efficient, and is able to leverage hierarchical relationships between genesets (e.g. marker genes of a cell population and marker genes of its sub-populations) to improve the quality of the enrichment analysis. "
   ]
  },
  {
   "cell_type": "markdown",
   "id": "edd55045",
   "metadata": {},
   "source": [
    "### Installing GORi"
   ]
  },
  {
   "cell_type": "markdown",
   "id": "666a3833",
   "metadata": {},
   "source": [
    "GORi can be installed as a Python3 package using pip3 and its GitHub repository:"
   ]
  },
  {
   "cell_type": "code",
   "execution_count": null,
   "id": "723eae4f",
   "metadata": {
    "vscode": {
     "languageId": "shellscript"
    }
   },
   "outputs": [],
   "source": [
    "pip3 install git+https://github.com/yanisaspic/GORi.git"
   ]
  },
  {
   "cell_type": "markdown",
   "id": "0b135b06",
   "metadata": {},
   "source": [
    "Following this installation, you will be able to load it as a package in Python3 scripts:"
   ]
  },
  {
   "cell_type": "code",
   "execution_count": null,
   "id": "52b93423",
   "metadata": {},
   "outputs": [],
   "source": [
    "import gori"
   ]
  },
  {
   "cell_type": "markdown",
   "id": "ec5f6f34",
   "metadata": {},
   "source": [
    "### Overview of GORi"
   ]
  },
  {
   "cell_type": "markdown",
   "id": "30c83182",
   "metadata": {},
   "source": [
    "GORi loads a pool of **priors** and leverages the gene annotations of each prior to identify strong associations between pairs of concepts. A prior is a collection of three Python3 dictionaries:\n",
    "    \n",
    "- **annotations**: a dict associating gene symbols or uniprot ids (keys) to a set of semantic ids (values).\n",
    "- **hierarchy**: a dict associating semantic ids (keys) to a set of parents in the hierarchy (values).\n",
    "- **translations**: a dict associating semantic ids (keys) to their human-readable label (values).\n",
    "\n",
    "To demonstrate how to use GORi, we will apply it on the results of a scRNA-seq clustering analysis conducted with the fEVE framework (cf. https://github.com/yanisaspic/fEVE) downloaded from an online repository.\n",
    "\n",
    "*This analysis was conducted on a human glioblastoma dataset, and 10 populations of cells were predicted: C, C.1, C.2, C.3, C.L, C.L.1, C.L.L, C.L.L.1, C.L.L.2 and C.L.L.L. These populations were predicted across multiple resolutions, as indicated by their label (*e.g.* C.L.1 and C.L.L are two sub-populations of C.L). For each population, a set of marker genes was predicted, and all of these informations are stored in the downloaded file `Darmanis_HumGBM.xlsx`.*"
   ]
  },
  {
   "cell_type": "code",
   "execution_count": null,
   "id": "d5be7c83",
   "metadata": {},
   "outputs": [],
   "source": [
    "from urllib.request import urlretrieve  # download the example data files\n",
    "\n",
    "url = \"https://github.com/yanisaspic/GORi/raw/refs/heads/main/data/Darmanis_HumGBM.xlsx\"\n",
    "urlretrieve(url, \"./Daramanis_HumGBM.xlsx\")"
   ]
  },
  {
   "cell_type": "markdown",
   "id": "d113be52",
   "metadata": {},
   "source": [
    "##### Setting-up GORi"
   ]
  },
  {
   "cell_type": "markdown",
   "id": "7c70eb09",
   "metadata": {},
   "source": [
    "Using the function `load_feve()`, we will load the results of this analysis as a prior for GORi:"
   ]
  },
  {
   "cell_type": "code",
   "execution_count": null,
   "id": "67dd2a82",
   "metadata": {},
   "outputs": [],
   "source": [
    "from gori.loaders import load_feve\n",
    "\n",
    "feve_prior = load_feve(path=\"./Darmanis_HumGBM.xlsx\")\n",
    "print(feve_prior)"
   ]
  },
  {
   "cell_type": "markdown",
   "id": "c645b590",
   "metadata": {},
   "source": [
    "For this analysis, our other priors will correspond to curated knowledge bases associating genes to specific concepts. Eight different priors are readily implemented in GORi:\n",
    "\n",
    "- **BIOP: biological processes**, from the Gene Ontology (GO).\n",
    "- **CELC: cellular components**, from the Gene Ontology (GO).\n",
    "- **CTYP: cell types**, from the Cell Ontology (CL) and CellMarker 2.0.\n",
    "- **DISE: diseases**, from the Comparative Toxicogenomics Database (CTD) and the Medical Subject Headings (MeSH).\n",
    "- **GENG: gene groups**, from the HUGO Gene Nomenclature Committee (HGNC).\n",
    "- **MOLF: molecular functions**, from the Gene Ontology (GO).\n",
    "- **PATH: pathways**, from Reactome.\n",
    "- **PHEN: phenotypes**, from the Human Phenotype Ontology (HPO).\n",
    "\n",
    "In order to load them, the function `load_priors()` must be called.\n",
    "\n",
    "**Note:** the priors CTYP, DISE, GENG and PATH must be intialized with `download_priors()` and `setup_priors()` before loading."
   ]
  },
  {
   "cell_type": "code",
   "execution_count": null,
   "id": "474c0238",
   "metadata": {},
   "outputs": [],
   "source": [
    "from gori.init import download_priors, setup_priors\n",
    "from gori.loaders import load_priors\n",
    "\n",
    "priors = {\"BIOP\", \"CELC\", \"CTYP\", \"DISE\", \"GENG\", \"MOLF\", \"PATH\", \"PHEN\"}\n",
    "\n",
    "download_priors()\n",
    "setup_priors()\n",
    "data = load_priors(priors=priors) # only priors in the set will be loaded"
   ]
  },
  {
   "cell_type": "markdown",
   "id": "55671323",
   "metadata": {},
   "source": [
    "**Note 1:** downloading and setting-up CTYP, DISE, GENG and PATH can be time-consuming. You only need to do it once, as local files will be stored on your machine afterwards (by default, in the folders `./.priors` and `./priors`).\n",
    "\n",
    "**Note 2:** the first time you load the priors BIOP, CELC, MOLF and PHEN, cache files are automatically saved in your machine (from the `pypath` package). This process can also be time-consuming. If errors are raised after loading one of these priors, they will likely be caused by cache issues. They can be solved by clearing the cache, and regenerating it with `load_priors()`."
   ]
  },
  {
   "cell_type": "markdown",
   "id": "0815b63b",
   "metadata": {},
   "source": [
    "Finally, it is also possible to load a prior from a collection of three local .json files with the function `load_local()`. For instance, a prior labeled POPU can be loaded if three .json files are saved locally: `POPU_a.json`, `POPU_h.json` and `POPU_t.json` (for annotations, hierarchy and translations, respectively).\n",
    "\n",
    "We demonstrate how to use this function by loading the DISE prior from the local collection of .json files generated after its initialization:"
   ]
  },
  {
   "cell_type": "code",
   "execution_count": null,
   "id": "34db7dc2",
   "metadata": {},
   "outputs": [],
   "source": [
    "from gori.loaders import load_local\n",
    "\n",
    "dise_prior = load_local(prior=\"DISE\", path=\"./priors\")\n",
    "print(dise_prior)"
   ]
  },
  {
   "cell_type": "markdown",
   "id": "50878537",
   "metadata": {},
   "source": [
    "**Note:** priors loaded with GORi should be rooted to a unique concept (*e.g.* `biological_process`) to ensure that the analysis runs smoothly. "
   ]
  },
  {
   "cell_type": "markdown",
   "id": "66f7a93b",
   "metadata": {},
   "source": [
    "##### Running GORi"
   ]
  },
  {
   "cell_type": "markdown",
   "id": "1d40e331",
   "metadata": {},
   "source": [
    "After loading all of our priors of interest, we will merge them to a single variable, and start the GORi analysis with the function `gori()`. This function expects four arguments:\n",
    "- **geneset** is a set of gene symbols or Uniprot ids used to conduct the enrichment analysis. We'll use the marker genes predicted with the fEVE analysis.\n",
    "- **antecedent_prior** is a label indicating which prior should be annotated. We'll annotate the clusters predicted with the fEVE analysis.\n",
    "- **consequent_prior** is a set of labels indicating which priors should be used to annotate. We'll use the eight default priors available with GORi.\n",
    "- **data** is a collection of priors. We have loaded them earlier."
   ]
  },
  {
   "cell_type": "code",
   "execution_count": null,
   "id": "9f6a663b",
   "metadata": {},
   "outputs": [],
   "source": [
    "%% time\n",
    "from gori.run import gori\n",
    "\n",
    "data[\"FEVE\"] = feve_prior\n",
    "geneset = data[\"FEVE\"][\"annotations\"].keys()\n",
    "results = gori(geneset=geneset, antecedent_prior=\"FEVE\", consequent_priors=priors, data=data)\n",
    "print(results)"
   ]
  },
  {
   "cell_type": "markdown",
   "id": "bf0dca1a",
   "metadata": {},
   "source": [
    "**Note:** the results of a fEVE clustering analysis can also be analyzed directly with the function `gorilon()`. By default, 6 priors are used: BIOP, CELC, CTYP, GENG, MOLF and PATH."
   ]
  },
  {
   "cell_type": "code",
   "execution_count": null,
   "id": "b5e3abc0",
   "metadata": {},
   "outputs": [],
   "source": [
    "from gori.run import gorilon\n",
    "\n",
    "results = gorilon(\"./Darmanis_HumGBM.xlsx\")\n",
    "print(results)"
   ]
  },
  {
   "cell_type": "markdown",
   "id": "ba34fdf1",
   "metadata": {},
   "source": [
    "A set of default parameters is used to run a GORi analysis. These parameters are generated with the function `get_parameters()`, and they include:\n",
    "\n",
    "- **n_genes_threshold:** the minimum number of co-annotating genes required to associate two concepts.\n",
    "- **pvalue_threshold:** the p-value threshold used to identify strong associations (using Fisher's exact test). \n",
    "- **use_heuristic:** a boolean indicating if the heuristic strategy should be employed to identify strong associations.\n",
    "- **use_gene_symbol:** a boolean indicating if gene symbols (True) or Uniprot ids (False) should be used.\n",
    "- **sheets_path:** a path to store the results of the GORi analysis.\n",
    "- **wrappers:** wrapper functions necessary to run GORi (cf. the section ***Developing new priors in GORi*** below).\n",
    "\n",
    "These settings can be changed prior to the GORi analysis, and must be input to the variable `params` of `gori()` or `gorilon()`:"
   ]
  },
  {
   "cell_type": "code",
   "execution_count": null,
   "id": "25266d9a",
   "metadata": {},
   "outputs": [],
   "source": [
    "from gori.params import get_parameters\n",
    "\n",
    "params = get_parameters()\n",
    "params[\"pvalue_threshold\"] = 0.001\n",
    "results = gori(geneset=geneset, antecedent_prior=\"FEVE\", consequent_priors={\"CTYP\", \"BIOP\", \"PATH\"}, data=data, params=params)\n",
    "print(results)"
   ]
  },
  {
   "cell_type": "markdown",
   "id": "0d4c9edc",
   "metadata": {},
   "source": [
    "### Developing new priors in GORi"
   ]
  },
  {
   "cell_type": "markdown",
   "id": "c18a5c74",
   "metadata": {},
   "source": [
    "**Note:** this section is aimed at developers interested in adding complex priors (*i.e.* priors that cannot be split into three .json files) to their GORi analyses. For a majority of users, the functionalities presented in the above section - notably `load_local()` - should be sufficient to carry out insightful GORi analyses.\n",
    "\n",
    "GORi is a framework structured around a collection of wrapper functions, that associate prior labels to prior-specific functions. This modular structure facilitates the integration of multiple knowledge bases in the analysis. In this section, we list each wrapper function, their role, their inputs and their output."
   ]
  },
  {
   "cell_type": "code",
   "execution_count": null,
   "id": "bd7ae759",
   "metadata": {},
   "outputs": [],
   "source": [
    "from gori.params import get_parameters\n",
    "\n",
    "params = get_parameters()\n",
    "print(params[\"wrappers\"])"
   ]
  },
  {
   "cell_type": "markdown",
   "id": "c9ba2531",
   "metadata": {},
   "source": [
    "##### ancestors_wrapper()"
   ]
  },
  {
   "cell_type": "markdown",
   "id": "1c623d6f",
   "metadata": {},
   "source": [
    "##### annotations_wrapper()"
   ]
  },
  {
   "cell_type": "markdown",
   "id": "16953dfb",
   "metadata": {},
   "source": [
    "##### descendants_wrapper()"
   ]
  },
  {
   "cell_type": "markdown",
   "id": "59e52403",
   "metadata": {},
   "source": [
    "##### download_wrapper()"
   ]
  },
  {
   "cell_type": "markdown",
   "id": "88a9624c",
   "metadata": {},
   "source": [
    "##### headers_wrapper()"
   ]
  },
  {
   "cell_type": "markdown",
   "id": "70632b0a",
   "metadata": {},
   "source": [
    "##### inverse_translate_wrapper()"
   ]
  },
  {
   "cell_type": "markdown",
   "id": "654284a7",
   "metadata": {},
   "source": [
    "##### load_wrapper()"
   ]
  },
  {
   "cell_type": "markdown",
   "id": "a4ce705c",
   "metadata": {},
   "source": [
    "##### resources_wrapper()"
   ]
  },
  {
   "cell_type": "markdown",
   "id": "e18ef700",
   "metadata": {},
   "source": [
    "##### roots_wrapper()"
   ]
  },
  {
   "cell_type": "markdown",
   "id": "08256f98",
   "metadata": {},
   "source": [
    "##### setup_wrapper()"
   ]
  },
  {
   "cell_type": "markdown",
   "id": "10b15410",
   "metadata": {},
   "source": [
    "##### terms_wrapper()"
   ]
  },
  {
   "cell_type": "markdown",
   "id": "ae96566d",
   "metadata": {},
   "source": [
    "##### translate_wrapper()"
   ]
  },
  {
   "cell_type": "markdown",
   "id": "91c47808",
   "metadata": {},
   "source": [
    "##### urls_wrapper()"
   ]
  }
 ],
 "metadata": {
  "kernelspec": {
   "display_name": "Python 3",
   "language": "python",
   "name": "python3"
  },
  "language_info": {
   "name": "python",
   "version": "3.8.10"
  }
 },
 "nbformat": 4,
 "nbformat_minor": 5
}
